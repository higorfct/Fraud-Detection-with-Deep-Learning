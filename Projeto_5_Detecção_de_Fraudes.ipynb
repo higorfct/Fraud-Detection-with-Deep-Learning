{
  "cells": [
    {
      "cell_type": "markdown",
      "source": [
        "#Projeto 5: Detecção de Transações Fraudulentas"
      ],
      "metadata": {
        "id": "Wz93wUAsKgfG"
      },
      "id": "Wz93wUAsKgfG"
    },
    {
      "cell_type": "markdown",
      "source": [
        "### Bibliotecas"
      ],
      "metadata": {
        "id": "wUEnqu6LKo_V"
      },
      "id": "wUEnqu6LKo_V"
    },
    {
      "cell_type": "code",
      "source": [
        "import pandas as pd\n",
        "from sklearn.model_selection import train_test_split\n",
        "from sklearn.neural_network import MLPClassifier\n",
        "from sklearn.preprocessing import StandardScaler\n",
        "from sklearn.metrics import classification_report\n",
        "from sklearn.metrics import confusion_matrix\n",
        "import matplotlib.pyplot as plt\n",
        "import seaborn as sns\n",
        "from sklearn.model_selection import RandomizedSearchCV\n",
        "from scipy.stats import reciprocal, uniform"
      ],
      "metadata": {
        "id": "VaXjNShYOp4r"
      },
      "id": "VaXjNShYOp4r",
      "execution_count": 1,
      "outputs": []
    },
    {
      "cell_type": "markdown",
      "source": [
        "### Importação e análise"
      ],
      "metadata": {
        "id": "ilW1uqJnKv2X"
      },
      "id": "ilW1uqJnKv2X"
    },
    {
      "cell_type": "code",
      "source": [
        "df = pd.read_csv(\"fraudes.csv\")\n",
        "df.head()"
      ],
      "metadata": {
        "id": "DN_gy1SlPWPg",
        "colab": {
          "base_uri": "https://localhost:8080/",
          "height": 206
        },
        "outputId": "48d3f094-3767-488b-b4eb-9187486b742e"
      },
      "id": "DN_gy1SlPWPg",
      "execution_count": 2,
      "outputs": [
        {
          "output_type": "execute_result",
          "data": {
            "text/plain": [
              "  transaction_id customer_id   amount  time     location  is_fraud\n",
              "0     TRANS_1668    CUST_257  3871.09    10  Loja Física         0\n",
              "1      TRANS_731    CUST_391  4222.56    23       Online         1\n",
              "2     TRANS_1644    CUST_360  4451.62    20       Online         0\n",
              "3      TRANS_499    CUST_342  2698.11     4       Online         0\n",
              "4      TRANS_827    CUST_146  2305.39     2       Online         0"
            ],
            "text/html": [
              "\n",
              "  <div id=\"df-9545e8ec-772c-4bb2-9d59-92649842f6d4\" class=\"colab-df-container\">\n",
              "    <div>\n",
              "<style scoped>\n",
              "    .dataframe tbody tr th:only-of-type {\n",
              "        vertical-align: middle;\n",
              "    }\n",
              "\n",
              "    .dataframe tbody tr th {\n",
              "        vertical-align: top;\n",
              "    }\n",
              "\n",
              "    .dataframe thead th {\n",
              "        text-align: right;\n",
              "    }\n",
              "</style>\n",
              "<table border=\"1\" class=\"dataframe\">\n",
              "  <thead>\n",
              "    <tr style=\"text-align: right;\">\n",
              "      <th></th>\n",
              "      <th>transaction_id</th>\n",
              "      <th>customer_id</th>\n",
              "      <th>amount</th>\n",
              "      <th>time</th>\n",
              "      <th>location</th>\n",
              "      <th>is_fraud</th>\n",
              "    </tr>\n",
              "  </thead>\n",
              "  <tbody>\n",
              "    <tr>\n",
              "      <th>0</th>\n",
              "      <td>TRANS_1668</td>\n",
              "      <td>CUST_257</td>\n",
              "      <td>3871.09</td>\n",
              "      <td>10</td>\n",
              "      <td>Loja Física</td>\n",
              "      <td>0</td>\n",
              "    </tr>\n",
              "    <tr>\n",
              "      <th>1</th>\n",
              "      <td>TRANS_731</td>\n",
              "      <td>CUST_391</td>\n",
              "      <td>4222.56</td>\n",
              "      <td>23</td>\n",
              "      <td>Online</td>\n",
              "      <td>1</td>\n",
              "    </tr>\n",
              "    <tr>\n",
              "      <th>2</th>\n",
              "      <td>TRANS_1644</td>\n",
              "      <td>CUST_360</td>\n",
              "      <td>4451.62</td>\n",
              "      <td>20</td>\n",
              "      <td>Online</td>\n",
              "      <td>0</td>\n",
              "    </tr>\n",
              "    <tr>\n",
              "      <th>3</th>\n",
              "      <td>TRANS_499</td>\n",
              "      <td>CUST_342</td>\n",
              "      <td>2698.11</td>\n",
              "      <td>4</td>\n",
              "      <td>Online</td>\n",
              "      <td>0</td>\n",
              "    </tr>\n",
              "    <tr>\n",
              "      <th>4</th>\n",
              "      <td>TRANS_827</td>\n",
              "      <td>CUST_146</td>\n",
              "      <td>2305.39</td>\n",
              "      <td>2</td>\n",
              "      <td>Online</td>\n",
              "      <td>0</td>\n",
              "    </tr>\n",
              "  </tbody>\n",
              "</table>\n",
              "</div>\n",
              "    <div class=\"colab-df-buttons\">\n",
              "\n",
              "  <div class=\"colab-df-container\">\n",
              "    <button class=\"colab-df-convert\" onclick=\"convertToInteractive('df-9545e8ec-772c-4bb2-9d59-92649842f6d4')\"\n",
              "            title=\"Convert this dataframe to an interactive table.\"\n",
              "            style=\"display:none;\">\n",
              "\n",
              "  <svg xmlns=\"http://www.w3.org/2000/svg\" height=\"24px\" viewBox=\"0 -960 960 960\">\n",
              "    <path d=\"M120-120v-720h720v720H120Zm60-500h600v-160H180v160Zm220 220h160v-160H400v160Zm0 220h160v-160H400v160ZM180-400h160v-160H180v160Zm440 0h160v-160H620v160ZM180-180h160v-160H180v160Zm440 0h160v-160H620v160Z\"/>\n",
              "  </svg>\n",
              "    </button>\n",
              "\n",
              "  <style>\n",
              "    .colab-df-container {\n",
              "      display:flex;\n",
              "      gap: 12px;\n",
              "    }\n",
              "\n",
              "    .colab-df-convert {\n",
              "      background-color: #E8F0FE;\n",
              "      border: none;\n",
              "      border-radius: 50%;\n",
              "      cursor: pointer;\n",
              "      display: none;\n",
              "      fill: #1967D2;\n",
              "      height: 32px;\n",
              "      padding: 0 0 0 0;\n",
              "      width: 32px;\n",
              "    }\n",
              "\n",
              "    .colab-df-convert:hover {\n",
              "      background-color: #E2EBFA;\n",
              "      box-shadow: 0px 1px 2px rgba(60, 64, 67, 0.3), 0px 1px 3px 1px rgba(60, 64, 67, 0.15);\n",
              "      fill: #174EA6;\n",
              "    }\n",
              "\n",
              "    .colab-df-buttons div {\n",
              "      margin-bottom: 4px;\n",
              "    }\n",
              "\n",
              "    [theme=dark] .colab-df-convert {\n",
              "      background-color: #3B4455;\n",
              "      fill: #D2E3FC;\n",
              "    }\n",
              "\n",
              "    [theme=dark] .colab-df-convert:hover {\n",
              "      background-color: #434B5C;\n",
              "      box-shadow: 0px 1px 3px 1px rgba(0, 0, 0, 0.15);\n",
              "      filter: drop-shadow(0px 1px 2px rgba(0, 0, 0, 0.3));\n",
              "      fill: #FFFFFF;\n",
              "    }\n",
              "  </style>\n",
              "\n",
              "    <script>\n",
              "      const buttonEl =\n",
              "        document.querySelector('#df-9545e8ec-772c-4bb2-9d59-92649842f6d4 button.colab-df-convert');\n",
              "      buttonEl.style.display =\n",
              "        google.colab.kernel.accessAllowed ? 'block' : 'none';\n",
              "\n",
              "      async function convertToInteractive(key) {\n",
              "        const element = document.querySelector('#df-9545e8ec-772c-4bb2-9d59-92649842f6d4');\n",
              "        const dataTable =\n",
              "          await google.colab.kernel.invokeFunction('convertToInteractive',\n",
              "                                                    [key], {});\n",
              "        if (!dataTable) return;\n",
              "\n",
              "        const docLinkHtml = 'Like what you see? Visit the ' +\n",
              "          '<a target=\"_blank\" href=https://colab.research.google.com/notebooks/data_table.ipynb>data table notebook</a>'\n",
              "          + ' to learn more about interactive tables.';\n",
              "        element.innerHTML = '';\n",
              "        dataTable['output_type'] = 'display_data';\n",
              "        await google.colab.output.renderOutput(dataTable, element);\n",
              "        const docLink = document.createElement('div');\n",
              "        docLink.innerHTML = docLinkHtml;\n",
              "        element.appendChild(docLink);\n",
              "      }\n",
              "    </script>\n",
              "  </div>\n",
              "\n",
              "\n",
              "    <div id=\"df-c3cc1af0-ec6f-4284-bf0d-3a11e6712902\">\n",
              "      <button class=\"colab-df-quickchart\" onclick=\"quickchart('df-c3cc1af0-ec6f-4284-bf0d-3a11e6712902')\"\n",
              "                title=\"Suggest charts\"\n",
              "                style=\"display:none;\">\n",
              "\n",
              "<svg xmlns=\"http://www.w3.org/2000/svg\" height=\"24px\"viewBox=\"0 0 24 24\"\n",
              "     width=\"24px\">\n",
              "    <g>\n",
              "        <path d=\"M19 3H5c-1.1 0-2 .9-2 2v14c0 1.1.9 2 2 2h14c1.1 0 2-.9 2-2V5c0-1.1-.9-2-2-2zM9 17H7v-7h2v7zm4 0h-2V7h2v10zm4 0h-2v-4h2v4z\"/>\n",
              "    </g>\n",
              "</svg>\n",
              "      </button>\n",
              "\n",
              "<style>\n",
              "  .colab-df-quickchart {\n",
              "      --bg-color: #E8F0FE;\n",
              "      --fill-color: #1967D2;\n",
              "      --hover-bg-color: #E2EBFA;\n",
              "      --hover-fill-color: #174EA6;\n",
              "      --disabled-fill-color: #AAA;\n",
              "      --disabled-bg-color: #DDD;\n",
              "  }\n",
              "\n",
              "  [theme=dark] .colab-df-quickchart {\n",
              "      --bg-color: #3B4455;\n",
              "      --fill-color: #D2E3FC;\n",
              "      --hover-bg-color: #434B5C;\n",
              "      --hover-fill-color: #FFFFFF;\n",
              "      --disabled-bg-color: #3B4455;\n",
              "      --disabled-fill-color: #666;\n",
              "  }\n",
              "\n",
              "  .colab-df-quickchart {\n",
              "    background-color: var(--bg-color);\n",
              "    border: none;\n",
              "    border-radius: 50%;\n",
              "    cursor: pointer;\n",
              "    display: none;\n",
              "    fill: var(--fill-color);\n",
              "    height: 32px;\n",
              "    padding: 0;\n",
              "    width: 32px;\n",
              "  }\n",
              "\n",
              "  .colab-df-quickchart:hover {\n",
              "    background-color: var(--hover-bg-color);\n",
              "    box-shadow: 0 1px 2px rgba(60, 64, 67, 0.3), 0 1px 3px 1px rgba(60, 64, 67, 0.15);\n",
              "    fill: var(--button-hover-fill-color);\n",
              "  }\n",
              "\n",
              "  .colab-df-quickchart-complete:disabled,\n",
              "  .colab-df-quickchart-complete:disabled:hover {\n",
              "    background-color: var(--disabled-bg-color);\n",
              "    fill: var(--disabled-fill-color);\n",
              "    box-shadow: none;\n",
              "  }\n",
              "\n",
              "  .colab-df-spinner {\n",
              "    border: 2px solid var(--fill-color);\n",
              "    border-color: transparent;\n",
              "    border-bottom-color: var(--fill-color);\n",
              "    animation:\n",
              "      spin 1s steps(1) infinite;\n",
              "  }\n",
              "\n",
              "  @keyframes spin {\n",
              "    0% {\n",
              "      border-color: transparent;\n",
              "      border-bottom-color: var(--fill-color);\n",
              "      border-left-color: var(--fill-color);\n",
              "    }\n",
              "    20% {\n",
              "      border-color: transparent;\n",
              "      border-left-color: var(--fill-color);\n",
              "      border-top-color: var(--fill-color);\n",
              "    }\n",
              "    30% {\n",
              "      border-color: transparent;\n",
              "      border-left-color: var(--fill-color);\n",
              "      border-top-color: var(--fill-color);\n",
              "      border-right-color: var(--fill-color);\n",
              "    }\n",
              "    40% {\n",
              "      border-color: transparent;\n",
              "      border-right-color: var(--fill-color);\n",
              "      border-top-color: var(--fill-color);\n",
              "    }\n",
              "    60% {\n",
              "      border-color: transparent;\n",
              "      border-right-color: var(--fill-color);\n",
              "    }\n",
              "    80% {\n",
              "      border-color: transparent;\n",
              "      border-right-color: var(--fill-color);\n",
              "      border-bottom-color: var(--fill-color);\n",
              "    }\n",
              "    90% {\n",
              "      border-color: transparent;\n",
              "      border-bottom-color: var(--fill-color);\n",
              "    }\n",
              "  }\n",
              "</style>\n",
              "\n",
              "      <script>\n",
              "        async function quickchart(key) {\n",
              "          const quickchartButtonEl =\n",
              "            document.querySelector('#' + key + ' button');\n",
              "          quickchartButtonEl.disabled = true;  // To prevent multiple clicks.\n",
              "          quickchartButtonEl.classList.add('colab-df-spinner');\n",
              "          try {\n",
              "            const charts = await google.colab.kernel.invokeFunction(\n",
              "                'suggestCharts', [key], {});\n",
              "          } catch (error) {\n",
              "            console.error('Error during call to suggestCharts:', error);\n",
              "          }\n",
              "          quickchartButtonEl.classList.remove('colab-df-spinner');\n",
              "          quickchartButtonEl.classList.add('colab-df-quickchart-complete');\n",
              "        }\n",
              "        (() => {\n",
              "          let quickchartButtonEl =\n",
              "            document.querySelector('#df-c3cc1af0-ec6f-4284-bf0d-3a11e6712902 button');\n",
              "          quickchartButtonEl.style.display =\n",
              "            google.colab.kernel.accessAllowed ? 'block' : 'none';\n",
              "        })();\n",
              "      </script>\n",
              "    </div>\n",
              "\n",
              "    </div>\n",
              "  </div>\n"
            ],
            "application/vnd.google.colaboratory.intrinsic+json": {
              "type": "dataframe",
              "variable_name": "df",
              "summary": "{\n  \"name\": \"df\",\n  \"rows\": 3784,\n  \"fields\": [\n    {\n      \"column\": \"transaction_id\",\n      \"properties\": {\n        \"dtype\": \"string\",\n        \"num_unique_values\": 2000,\n        \"samples\": [\n          \"TRANS_429\",\n          \"TRANS_676\",\n          \"TRANS_795\"\n        ],\n        \"semantic_type\": \"\",\n        \"description\": \"\"\n      }\n    },\n    {\n      \"column\": \"customer_id\",\n      \"properties\": {\n        \"dtype\": \"category\",\n        \"num_unique_values\": 489,\n        \"samples\": [\n          \"CUST_74\",\n          \"CUST_194\",\n          \"CUST_363\"\n        ],\n        \"semantic_type\": \"\",\n        \"description\": \"\"\n      }\n    },\n    {\n      \"column\": \"amount\",\n      \"properties\": {\n        \"dtype\": \"number\",\n        \"std\": 1463.4302412685606,\n        \"min\": 5.06,\n        \"max\": 4997.07,\n        \"num_unique_values\": 1992,\n        \"samples\": [\n          4030.93,\n          3182.71,\n          3582.17\n        ],\n        \"semantic_type\": \"\",\n        \"description\": \"\"\n      }\n    },\n    {\n      \"column\": \"time\",\n      \"properties\": {\n        \"dtype\": \"number\",\n        \"std\": 7,\n        \"min\": 0,\n        \"max\": 23,\n        \"num_unique_values\": 24,\n        \"samples\": [\n          7,\n          12,\n          10\n        ],\n        \"semantic_type\": \"\",\n        \"description\": \"\"\n      }\n    },\n    {\n      \"column\": \"location\",\n      \"properties\": {\n        \"dtype\": \"category\",\n        \"num_unique_values\": 2,\n        \"samples\": [\n          \"Online\",\n          \"Loja F\\u00edsica\"\n        ],\n        \"semantic_type\": \"\",\n        \"description\": \"\"\n      }\n    },\n    {\n      \"column\": \"is_fraud\",\n      \"properties\": {\n        \"dtype\": \"number\",\n        \"std\": 0,\n        \"min\": 0,\n        \"max\": 1,\n        \"num_unique_values\": 2,\n        \"samples\": [\n          1,\n          0\n        ],\n        \"semantic_type\": \"\",\n        \"description\": \"\"\n      }\n    }\n  ]\n}"
            }
          },
          "metadata": {},
          "execution_count": 2
        }
      ]
    },
    {
      "cell_type": "code",
      "source": [
        "#Quantidade de registros\n",
        "\n",
        "print(f'A quantidade de registros no dataset é de: {df.shape[0]}')"
      ],
      "metadata": {
        "colab": {
          "base_uri": "https://localhost:8080/"
        },
        "id": "f7E3ikbPwXyg",
        "outputId": "d836b6ce-c345-46a9-f0bf-1e85aa04378b"
      },
      "id": "f7E3ikbPwXyg",
      "execution_count": 6,
      "outputs": [
        {
          "output_type": "stream",
          "name": "stdout",
          "text": [
            "A quantidade de registros no dataset é de: 3784\n"
          ]
        }
      ]
    },
    {
      "cell_type": "code",
      "source": [
        "#Quantidade de atributos\n",
        "\n",
        "print(f'A quantidade de atributos no dataset é de: {df.shape[1]}')"
      ],
      "metadata": {
        "colab": {
          "base_uri": "https://localhost:8080/"
        },
        "id": "FXDeq05Xw4c3",
        "outputId": "cff7aadf-37ed-4d89-f847-b79bf7000d83"
      },
      "id": "FXDeq05Xw4c3",
      "execution_count": 5,
      "outputs": [
        {
          "output_type": "stream",
          "name": "stdout",
          "text": [
            "A quantidade de atributos no dataset é de: 6\n"
          ]
        }
      ]
    },
    {
      "cell_type": "markdown",
      "source": [
        "#Valores ausentes"
      ],
      "metadata": {
        "id": "HYzeTLqonlCY"
      },
      "id": "HYzeTLqonlCY"
    },
    {
      "cell_type": "code",
      "source": [
        "#Verificando valores ausentes.\n",
        "\n",
        "df.isnull().sum()"
      ],
      "metadata": {
        "colab": {
          "base_uri": "https://localhost:8080/",
          "height": 272
        },
        "id": "QdvY5O3HnoDn",
        "outputId": "564a10d6-a623-47d6-f031-ad7d07adf8fb"
      },
      "id": "QdvY5O3HnoDn",
      "execution_count": 7,
      "outputs": [
        {
          "output_type": "execute_result",
          "data": {
            "text/plain": [
              "transaction_id    0\n",
              "customer_id       0\n",
              "amount            0\n",
              "time              0\n",
              "location          0\n",
              "is_fraud          0\n",
              "dtype: int64"
            ],
            "text/html": [
              "<div>\n",
              "<style scoped>\n",
              "    .dataframe tbody tr th:only-of-type {\n",
              "        vertical-align: middle;\n",
              "    }\n",
              "\n",
              "    .dataframe tbody tr th {\n",
              "        vertical-align: top;\n",
              "    }\n",
              "\n",
              "    .dataframe thead th {\n",
              "        text-align: right;\n",
              "    }\n",
              "</style>\n",
              "<table border=\"1\" class=\"dataframe\">\n",
              "  <thead>\n",
              "    <tr style=\"text-align: right;\">\n",
              "      <th></th>\n",
              "      <th>0</th>\n",
              "    </tr>\n",
              "  </thead>\n",
              "  <tbody>\n",
              "    <tr>\n",
              "      <th>transaction_id</th>\n",
              "      <td>0</td>\n",
              "    </tr>\n",
              "    <tr>\n",
              "      <th>customer_id</th>\n",
              "      <td>0</td>\n",
              "    </tr>\n",
              "    <tr>\n",
              "      <th>amount</th>\n",
              "      <td>0</td>\n",
              "    </tr>\n",
              "    <tr>\n",
              "      <th>time</th>\n",
              "      <td>0</td>\n",
              "    </tr>\n",
              "    <tr>\n",
              "      <th>location</th>\n",
              "      <td>0</td>\n",
              "    </tr>\n",
              "    <tr>\n",
              "      <th>is_fraud</th>\n",
              "      <td>0</td>\n",
              "    </tr>\n",
              "  </tbody>\n",
              "</table>\n",
              "</div><br><label><b>dtype:</b> int64</label>"
            ]
          },
          "metadata": {},
          "execution_count": 7
        }
      ]
    },
    {
      "cell_type": "markdown",
      "source": [
        "### Pré-Processamento"
      ],
      "metadata": {
        "id": "mToiDUhDK0Hv"
      },
      "id": "mToiDUhDK0Hv"
    },
    {
      "cell_type": "code",
      "source": [
        "# Remove colunas sem valor semântico\n",
        "df = df.drop(columns=['transaction_id', 'customer_id'])\n",
        "\n",
        "\n",
        "# Pré-processa Variáveis Categóricas\n",
        "df_encoded = pd.get_dummies(df, columns=['location'], drop_first=True)\n",
        "\n",
        "# Separa\n",
        "X = df_encoded.drop(columns=['is_fraud'])\n",
        "y = df_encoded['is_fraud']\n",
        "\n",
        "# Normaliza\n",
        "scaler = StandardScaler()\n",
        "X[['amount', 'time']] = scaler.fit_transform(X[['amount', 'time']])\n",
        "\n",
        "# Divide entre treino e teste\n",
        "X_train, X_test, y_train, y_test = train_test_split(X, y, test_size=0.2, random_state=42)\n",
        "print(X_train)"
      ],
      "metadata": {
        "id": "WM_PCWovPY7i",
        "colab": {
          "base_uri": "https://localhost:8080/"
        },
        "outputId": "80431ff0-9d77-4dd4-f22f-25472a1917d0"
      },
      "id": "WM_PCWovPY7i",
      "execution_count": 8,
      "outputs": [
        {
          "output_type": "stream",
          "name": "stdout",
          "text": [
            "        amount      time  location_Online\n",
            "1094 -1.032058  0.774219            False\n",
            "108   0.414379 -0.730548            False\n",
            "1684 -1.134727  0.637422             True\n",
            "3648 -1.684119 -0.046563             True\n",
            "2284  1.186531  0.774219             True\n",
            "...        ...       ...              ...\n",
            "1130  0.632095  1.047814             True\n",
            "1294  1.434481 -0.730548             True\n",
            "860  -0.679811 -1.414534             True\n",
            "3507 -0.139940 -1.824925             True\n",
            "3174 -1.742373  1.047814             True\n",
            "\n",
            "[3027 rows x 3 columns]\n"
          ]
        }
      ]
    },
    {
      "cell_type": "markdown",
      "source": [
        "#Rede Neural MLP com Tunagem de Hiperparâmetros"
      ],
      "metadata": {
        "id": "FQMMDHy0IUJ9"
      },
      "id": "FQMMDHy0IUJ9"
    },
    {
      "cell_type": "code",
      "source": [
        "# Define o modelo\n",
        "mlp = MLPClassifier(max_iter=500, random_state=42)\n",
        "\n",
        "# Define os hiperparâmetros para tunagem\n",
        "param_distributions = {\n",
        "    'hidden_layer_sizes': [(50,), (100,), (50, 50), (100, 50)],  # Tamanhos das camadas ocultas da rede neural\n",
        "    'activation': ['relu', 'tanh','sigmoid'],                    # Função de ativação usada nos neurônios\n",
        "    'solver': ['adam', 'sgd'],                                   # Algoritmo de otimização usado para treinar a rede\n",
        "    'alpha': reciprocal(1e-4, 1e-2),                              # Parâmetro de regularização L2 (controle de overfitting)\n",
        "    'learning_rate': ['constant', 'invscaling', 'adaptive'],     # Estratégia de ajuste da taxa de aprendizado\n",
        "    'learning_rate_init': uniform(0.0001, 0.01),                 # Valor inicial da taxa de aprendizado\n",
        "    'batch_size': [32, 64, 128]                                  # Tamanho dos lotes usados no treinamento\n",
        "}\n",
        "\n",
        "# Configura a busca randomica\n",
        "random_search = RandomizedSearchCV(mlp, param_distributions, n_iter=10, cv=3, random_state=42, n_jobs=-1)\n",
        "\n",
        "# Realiza a tunagem dos hiperparâmetros\n",
        "random_search.fit(X_train, y_train)\n",
        "\n",
        "# Melhores hiperparâmetros encontrados\n",
        "print(\"Melhores hiperparâmetros:\", random_search.best_params_)\n",
        "\n",
        "# Melhor modelo encontrado\n",
        "best_mlp = random_search.best_estimator_\n",
        "\n",
        "# Predições no conjunto de teste\n",
        "y_pred = best_mlp.predict(X_test)\n",
        "\n",
        "# Avaliação do modelo\n",
        "print(\"\\nRelatório de Classificação:\")\n",
        "print(classification_report(y_test, y_pred))\n",
        "\n",
        "print(\"\\nMatriz de Confusão:\")\n",
        "cm = confusion_matrix(y_test, y_pred)\n",
        "plt.figure(figsize=(8, 6))\n",
        "sns.heatmap(cm, annot=True, fmt='d', cmap='Blues', xticklabels=['Não Fraude', 'Fraude'], yticklabels=['Não Fraude', 'Fraude'])\n",
        "plt.xlabel('Previsto')\n",
        "plt.ylabel('Verdadeiro')\n",
        "plt.title('Matriz de Confusão')\n",
        "plt.show()"
      ],
      "metadata": {
        "colab": {
          "base_uri": "https://localhost:8080/",
          "height": 862
        },
        "id": "a1CUNDmtIZCI",
        "outputId": "692e954c-b08a-49da-a92b-0d8706d37895"
      },
      "id": "a1CUNDmtIZCI",
      "execution_count": 9,
      "outputs": [
        {
          "output_type": "stream",
          "name": "stderr",
          "text": [
            "/usr/local/lib/python3.11/dist-packages/sklearn/neural_network/_multilayer_perceptron.py:691: ConvergenceWarning: Stochastic Optimizer: Maximum iterations (1000) reached and the optimization hasn't converged yet.\n",
            "  warnings.warn(\n"
          ]
        },
        {
          "output_type": "stream",
          "name": "stdout",
          "text": [
            "Melhores hiperparâmetros: {'activation': 'tanh', 'alpha': np.float64(0.00025081156860452336), 'batch_size': 128, 'hidden_layer_sizes': (100, 50), 'learning_rate': 'constant', 'learning_rate_init': np.float64(0.0005645041271999773), 'solver': 'adam'}\n",
            "\n",
            "Relatório de Classificação:\n",
            "              precision    recall  f1-score   support\n",
            "\n",
            "           0       0.88      0.81      0.84       363\n",
            "           1       0.84      0.90      0.87       394\n",
            "\n",
            "    accuracy                           0.85       757\n",
            "   macro avg       0.86      0.85      0.85       757\n",
            "weighted avg       0.86      0.85      0.85       757\n",
            "\n",
            "\n",
            "Matriz de Confusão:\n"
          ]
        },
        {
          "output_type": "display_data",
          "data": {
            "text/plain": [
              "<Figure size 800x600 with 2 Axes>"
            ],
            "image/png": "[encoded data removed]"
          },
          "metadata": {}
        }
      ]
    },
    {
      "cell_type": "markdown",
      "source": [
        "\n",
        "# Impacto Financeiro do Modelo"
      ],
      "metadata": {
        "id": "6MQRXF5i1ZrY"
      },
      "id": "6MQRXF5i1ZrY"
    },
    {
      "cell_type": "code",
      "source": [
        "# Assumindo um valor médio de transação para estimar o custo de falsos positivos e economia\n",
        "# Você pode ajustar isso com base no seu conhecimento do domínio ou análise de dados\n",
        "average_transaction_amount = df['amount'].mean()\n",
        "\n",
        "# Obtém os valores da matriz de confusão\n",
        "# Verdadeiros Negativos (TN), Falsos Positivos (FP), Falsos Negativos (FN), Verdadeiros Positivos (TP)\n",
        "tn, fp, fn, tp = cm.ravel()\n",
        "\n",
        "# Calcula o custo de falsos positivos\n",
        "# Cada falso positivo é uma transação legítima incorretamente sinalizada como fraude, potencialmente levando a inconvenientes para o cliente e perda de negócios.\n",
        "# Estimamos este custo multiplicando o número de falsos positivos pelo valor médio da transação.\n",
        "cost_of_false_positives = fp * average_transaction_amount\n",
        "\n",
        "# Calcula a economia de fraudes corretamente identificadas (Verdadeiros Positivos)\n",
        "# Cada verdadeiro positivo é uma transação fraudulenta corretamente identificada, prevenindo perdas financeiras.\n",
        "# Estimamos esta economia multiplicando o número de verdadeiros positivos pelo valor médio da transação.\n",
        "savings_from_true_positives = tp * average_transaction_amount\n",
        "\n",
        "# Calcula o impacto monetário líquido\n",
        "net_monetary_impact = savings_from_true_positives - cost_of_false_positives\n",
        "\n",
        "print(f\"\\nImpacto Econômico do Modelo:\")\n",
        "print(f\"Custo de Falsos Positivos: R$ {cost_of_false_positives:,.2f}\")\n",
        "print(f\"Economia de Verdadeiros Positivos: R$ {savings_from_true_positives:,.2f}\")\n",
        "print(f\"Impacto Monetário Líquido: R$ {net_monetary_impact:,.2f}\")"
      ],
      "metadata": {
        "colab": {
          "base_uri": "https://localhost:8080/"
        },
        "id": "oDZmsNnvz-29",
        "outputId": "d3738d31-b098-4bc7-b384-98803e3d2415"
      },
      "id": "oDZmsNnvz-29",
      "execution_count": 11,
      "outputs": [
        {
          "output_type": "stream",
          "name": "stdout",
          "text": [
            "\n",
            "Impacto Econômico do Modelo:\n",
            "Custo de Falsos Positivos: R$ 180,432.57\n",
            "Economia de Verdadeiros Positivos: R$ 923,082.56\n",
            "Impacto Monetário Líquido: R$ 742,649.99\n"
          ]
        }
      ]
    }
  ],
  "metadata": {
    "colab": {
      "provenance": []
    },
    "language_info": {
      "name": "python"
    },
    "kernelspec": {
      "name": "python3",
      "display_name": "Python 3"
    }
  },
  "nbformat": 4,
  "nbformat_minor": 5
}